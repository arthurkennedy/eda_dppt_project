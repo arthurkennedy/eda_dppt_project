{
 "cells": [
  {
   "cell_type": "code",
   "execution_count": null,
   "id": "75fc9c8d-4853-4a0b-8c6f-b54c0f9c5b5b",
   "metadata": {},
   "outputs": [],
   "source": [
    "pip install geopandas matplotlib folium"
   ]
  },
  {
   "cell_type": "code",
   "execution_count": 1,
   "id": "84e94a66-7ae9-4696-a7ae-70071a85930f",
   "metadata": {},
   "outputs": [],
   "source": [
    "import pandas as pd\n",
    "import numpy as np\n",
    "import seaborn as sns\n",
    "import matplotlib.pyplot as plt\n",
    "import geopandas as gpd\n",
    "import folium\n",
    "from matplotlib.ticker import FuncFormatter\n",
    "%matplotlib inline\n",
    "sns.set(color_codes=True)"
   ]
  },
  {
   "cell_type": "markdown",
   "id": "9e116c44-d8d5-4435-9f83-e5eaa59dd628",
   "metadata": {},
   "source": [
    "# When And Where To Invest\n",
    "\n",
    "In order to understand if we should wait to invest or should I invest now we can look at the Zillow's forecast. The forecast dataset contains *home values* based on a Zillow's Home Value Index. The dataset predicts the home value for November 2024, January 2025 and October 2025. \n",
    "\n",
    "The Home Value Index is calculated based on multiple features that the Zillow website collects.\n",
    "\n",
    "> The core tech for the previous Zestimate algorithm used random forests, an algorithmic approach that filtered homes into ever narrowing price buckets using property and listing information. The end result is a set of similar homes with prices that jointly minimizes the error between the model’s predictions (the Zestimates) and actual, observed sale prices. the new neural network-based approach has several major advantages. First and foremost, it can handle A LOT more data allowing the models to learn about the price of homes across time and beyond county borders flexibly and responsively.\n",
    "\n",
    "The dataset contains the `zip` code and the `RegionID` which can be used later to select the geographical area in the United States that we can invest.\n",
    "\n",
    "We will be using the Zillow's Median Sale Prices Adjusted dataset to understand what are the median house price for the identified investment will be, to check if we follow the 12 million dollars budget."
   ]
  },
  {
   "cell_type": "code",
   "execution_count": 2,
   "id": "111c6c26-9bb6-4532-b4c5-92caf2fbdc41",
   "metadata": {},
   "outputs": [],
   "source": [
    "# Loading the dataset that we will be using\n",
    "meadianSalePrices = pd.read_csv('./data/median_sale_prices_adjusted.csv')\n",
    "forecastByZip = pd.read_csv('./data/forecast_zip.csv')\n",
    "\n",
    "# Loading the zip codes\n",
    "zip_codes = gpd.read_file(\"../data/tl_2024_us_zcta520\")"
   ]
  },
  {
   "cell_type": "code",
   "execution_count": 3,
   "id": "a7b34070-65f6-46a1-85aa-1daaccad7f88",
   "metadata": {},
   "outputs": [
    {
     "name": "stdout",
     "output_type": "stream",
     "text": [
      "Zillow Forecast of Home Values dataset\n",
      "Size: 20161\n",
      "RegionID        int64\n",
      "SizeRank        int64\n",
      "RegionName      int64\n",
      "RegionType     object\n",
      "StateName      object\n",
      "State          object\n",
      "City           object\n",
      "Metro          object\n",
      "CountyName     object\n",
      "BaseDate       object\n",
      "2024-11-30    float64\n",
      "2025-01-31    float64\n",
      "2025-10-31    float64\n",
      "dtype: object\n"
     ]
    }
   ],
   "source": [
    "print('Zillow Forecast of Home Values dataset')\n",
    "print(f'Size: {len(forecastByZip)}')\n",
    "print(forecastByZip.dtypes)"
   ]
  },
  {
   "cell_type": "code",
   "execution_count": 4,
   "id": "9524838b-e686-4b98-8a5d-b5921a61ebe8",
   "metadata": {},
   "outputs": [
    {
     "data": {
      "text/html": [
       "<div>\n",
       "<style scoped>\n",
       "    .dataframe tbody tr th:only-of-type {\n",
       "        vertical-align: middle;\n",
       "    }\n",
       "\n",
       "    .dataframe tbody tr th {\n",
       "        vertical-align: top;\n",
       "    }\n",
       "\n",
       "    .dataframe thead th {\n",
       "        text-align: right;\n",
       "    }\n",
       "</style>\n",
       "<table border=\"1\" class=\"dataframe\">\n",
       "  <thead>\n",
       "    <tr style=\"text-align: right;\">\n",
       "      <th></th>\n",
       "      <th>RegionID</th>\n",
       "      <th>SizeRank</th>\n",
       "      <th>RegionName</th>\n",
       "      <th>RegionType</th>\n",
       "      <th>StateName</th>\n",
       "      <th>State</th>\n",
       "      <th>City</th>\n",
       "      <th>Metro</th>\n",
       "      <th>CountyName</th>\n",
       "      <th>BaseDate</th>\n",
       "      <th>2024-11-30</th>\n",
       "      <th>2025-01-31</th>\n",
       "      <th>2025-10-31</th>\n",
       "    </tr>\n",
       "  </thead>\n",
       "  <tbody>\n",
       "    <tr>\n",
       "      <th>0</th>\n",
       "      <td>91982</td>\n",
       "      <td>1</td>\n",
       "      <td>77494</td>\n",
       "      <td>zip</td>\n",
       "      <td>TX</td>\n",
       "      <td>TX</td>\n",
       "      <td>Katy</td>\n",
       "      <td>Houston-The Woodlands-Sugar Land, TX</td>\n",
       "      <td>Fort Bend County</td>\n",
       "      <td>2024-10-31</td>\n",
       "      <td>0.0</td>\n",
       "      <td>-0.2</td>\n",
       "      <td>0.6</td>\n",
       "    </tr>\n",
       "    <tr>\n",
       "      <th>1</th>\n",
       "      <td>61148</td>\n",
       "      <td>2</td>\n",
       "      <td>8701</td>\n",
       "      <td>zip</td>\n",
       "      <td>NJ</td>\n",
       "      <td>NJ</td>\n",
       "      <td>Lakewood</td>\n",
       "      <td>New York-Newark-Jersey City, NY-NJ-PA</td>\n",
       "      <td>Ocean County</td>\n",
       "      <td>2024-10-31</td>\n",
       "      <td>0.4</td>\n",
       "      <td>0.6</td>\n",
       "      <td>1.8</td>\n",
       "    </tr>\n",
       "    <tr>\n",
       "      <th>2</th>\n",
       "      <td>91940</td>\n",
       "      <td>3</td>\n",
       "      <td>77449</td>\n",
       "      <td>zip</td>\n",
       "      <td>TX</td>\n",
       "      <td>TX</td>\n",
       "      <td>Katy</td>\n",
       "      <td>Houston-The Woodlands-Sugar Land, TX</td>\n",
       "      <td>Harris County</td>\n",
       "      <td>2024-10-31</td>\n",
       "      <td>-0.3</td>\n",
       "      <td>-0.8</td>\n",
       "      <td>0.3</td>\n",
       "    </tr>\n",
       "    <tr>\n",
       "      <th>3</th>\n",
       "      <td>62080</td>\n",
       "      <td>4</td>\n",
       "      <td>11368</td>\n",
       "      <td>zip</td>\n",
       "      <td>NY</td>\n",
       "      <td>NY</td>\n",
       "      <td>New York</td>\n",
       "      <td>New York-Newark-Jersey City, NY-NJ-PA</td>\n",
       "      <td>Queens County</td>\n",
       "      <td>2024-10-31</td>\n",
       "      <td>-0.1</td>\n",
       "      <td>-0.3</td>\n",
       "      <td>0.5</td>\n",
       "    </tr>\n",
       "    <tr>\n",
       "      <th>4</th>\n",
       "      <td>91733</td>\n",
       "      <td>5</td>\n",
       "      <td>77084</td>\n",
       "      <td>zip</td>\n",
       "      <td>TX</td>\n",
       "      <td>TX</td>\n",
       "      <td>Houston</td>\n",
       "      <td>Houston-The Woodlands-Sugar Land, TX</td>\n",
       "      <td>Harris County</td>\n",
       "      <td>2024-10-31</td>\n",
       "      <td>-0.2</td>\n",
       "      <td>-0.6</td>\n",
       "      <td>0.4</td>\n",
       "    </tr>\n",
       "  </tbody>\n",
       "</table>\n",
       "</div>"
      ],
      "text/plain": [
       "   RegionID  SizeRank  RegionName RegionType StateName State      City  \\\n",
       "0     91982         1       77494        zip        TX    TX      Katy   \n",
       "1     61148         2        8701        zip        NJ    NJ  Lakewood   \n",
       "2     91940         3       77449        zip        TX    TX      Katy   \n",
       "3     62080         4       11368        zip        NY    NY  New York   \n",
       "4     91733         5       77084        zip        TX    TX   Houston   \n",
       "\n",
       "                                   Metro        CountyName    BaseDate  \\\n",
       "0   Houston-The Woodlands-Sugar Land, TX  Fort Bend County  2024-10-31   \n",
       "1  New York-Newark-Jersey City, NY-NJ-PA      Ocean County  2024-10-31   \n",
       "2   Houston-The Woodlands-Sugar Land, TX     Harris County  2024-10-31   \n",
       "3  New York-Newark-Jersey City, NY-NJ-PA     Queens County  2024-10-31   \n",
       "4   Houston-The Woodlands-Sugar Land, TX     Harris County  2024-10-31   \n",
       "\n",
       "   2024-11-30  2025-01-31  2025-10-31  \n",
       "0         0.0        -0.2         0.6  \n",
       "1         0.4         0.6         1.8  \n",
       "2        -0.3        -0.8         0.3  \n",
       "3        -0.1        -0.3         0.5  \n",
       "4        -0.2        -0.6         0.4  "
      ]
     },
     "execution_count": 4,
     "metadata": {},
     "output_type": "execute_result"
    }
   ],
   "source": [
    "forecastByZip.head()"
   ]
  },
  {
   "cell_type": "code",
   "execution_count": 5,
   "id": "e1b94988-9291-498f-ac26-c9454c9ea259",
   "metadata": {},
   "outputs": [
    {
     "name": "stdout",
     "output_type": "stream",
     "text": [
      "US Median Sale Price dataset\n",
      "Size: 714\n",
      "RegionID        int64\n",
      "SizeRank        int64\n",
      "RegionName     object\n",
      "RegionType     object\n",
      "StateName      object\n",
      "               ...   \n",
      "2024-05-31    float64\n",
      "2024-06-30    float64\n",
      "2024-07-31    float64\n",
      "2024-08-31    float64\n",
      "2024-09-30    float64\n",
      "Length: 79, dtype: object\n"
     ]
    }
   ],
   "source": [
    "print('US Median Sale Price dataset')\n",
    "print(f'Size: {len(meadianSalePrices)}')\n",
    "print(meadianSalePrices.dtypes)"
   ]
  },
  {
   "cell_type": "code",
   "execution_count": 6,
   "id": "f6f753b6-d9dc-4c05-b56c-31c994134aa0",
   "metadata": {},
   "outputs": [
    {
     "data": {
      "text/html": [
       "<div>\n",
       "<style scoped>\n",
       "    .dataframe tbody tr th:only-of-type {\n",
       "        vertical-align: middle;\n",
       "    }\n",
       "\n",
       "    .dataframe tbody tr th {\n",
       "        vertical-align: top;\n",
       "    }\n",
       "\n",
       "    .dataframe thead th {\n",
       "        text-align: right;\n",
       "    }\n",
       "</style>\n",
       "<table border=\"1\" class=\"dataframe\">\n",
       "  <thead>\n",
       "    <tr style=\"text-align: right;\">\n",
       "      <th></th>\n",
       "      <th>RegionID</th>\n",
       "      <th>SizeRank</th>\n",
       "      <th>RegionName</th>\n",
       "      <th>RegionType</th>\n",
       "      <th>StateName</th>\n",
       "      <th>2018-08-31</th>\n",
       "      <th>2018-09-30</th>\n",
       "      <th>2018-10-31</th>\n",
       "      <th>2018-11-30</th>\n",
       "      <th>2018-12-31</th>\n",
       "      <th>...</th>\n",
       "      <th>2023-12-31</th>\n",
       "      <th>2024-01-31</th>\n",
       "      <th>2024-02-29</th>\n",
       "      <th>2024-03-31</th>\n",
       "      <th>2024-04-30</th>\n",
       "      <th>2024-05-31</th>\n",
       "      <th>2024-06-30</th>\n",
       "      <th>2024-07-31</th>\n",
       "      <th>2024-08-31</th>\n",
       "      <th>2024-09-30</th>\n",
       "    </tr>\n",
       "  </thead>\n",
       "  <tbody>\n",
       "    <tr>\n",
       "      <th>0</th>\n",
       "      <td>102001</td>\n",
       "      <td>0</td>\n",
       "      <td>United States</td>\n",
       "      <td>country</td>\n",
       "      <td>NaN</td>\n",
       "      <td>226464.0</td>\n",
       "      <td>225849.0</td>\n",
       "      <td>226543.0</td>\n",
       "      <td>227654.0</td>\n",
       "      <td>228643.0</td>\n",
       "      <td>...</td>\n",
       "      <td>334503.0</td>\n",
       "      <td>335121.0</td>\n",
       "      <td>339431.0</td>\n",
       "      <td>345202.0</td>\n",
       "      <td>349125.0</td>\n",
       "      <td>352081.0</td>\n",
       "      <td>355144.0</td>\n",
       "      <td>357383.0</td>\n",
       "      <td>358468.0</td>\n",
       "      <td>358221.0</td>\n",
       "    </tr>\n",
       "    <tr>\n",
       "      <th>1</th>\n",
       "      <td>394913</td>\n",
       "      <td>1</td>\n",
       "      <td>New York, NY</td>\n",
       "      <td>msa</td>\n",
       "      <td>NY</td>\n",
       "      <td>397636.0</td>\n",
       "      <td>395248.0</td>\n",
       "      <td>395611.0</td>\n",
       "      <td>396926.0</td>\n",
       "      <td>396567.0</td>\n",
       "      <td>...</td>\n",
       "      <td>603185.0</td>\n",
       "      <td>605647.0</td>\n",
       "      <td>608658.0</td>\n",
       "      <td>612170.0</td>\n",
       "      <td>617987.0</td>\n",
       "      <td>627793.0</td>\n",
       "      <td>641076.0</td>\n",
       "      <td>651363.0</td>\n",
       "      <td>655123.0</td>\n",
       "      <td>654488.0</td>\n",
       "    </tr>\n",
       "    <tr>\n",
       "      <th>2</th>\n",
       "      <td>753899</td>\n",
       "      <td>2</td>\n",
       "      <td>Los Angeles, CA</td>\n",
       "      <td>msa</td>\n",
       "      <td>CA</td>\n",
       "      <td>673718.0</td>\n",
       "      <td>669784.0</td>\n",
       "      <td>670135.0</td>\n",
       "      <td>668451.0</td>\n",
       "      <td>663329.0</td>\n",
       "      <td>...</td>\n",
       "      <td>919376.0</td>\n",
       "      <td>917801.0</td>\n",
       "      <td>923357.0</td>\n",
       "      <td>932840.0</td>\n",
       "      <td>948535.0</td>\n",
       "      <td>958927.0</td>\n",
       "      <td>969256.0</td>\n",
       "      <td>970001.0</td>\n",
       "      <td>956885.0</td>\n",
       "      <td>944886.0</td>\n",
       "    </tr>\n",
       "    <tr>\n",
       "      <th>3</th>\n",
       "      <td>394463</td>\n",
       "      <td>3</td>\n",
       "      <td>Chicago, IL</td>\n",
       "      <td>msa</td>\n",
       "      <td>IL</td>\n",
       "      <td>229945.0</td>\n",
       "      <td>228880.0</td>\n",
       "      <td>229653.0</td>\n",
       "      <td>231949.0</td>\n",
       "      <td>231769.0</td>\n",
       "      <td>...</td>\n",
       "      <td>298526.0</td>\n",
       "      <td>300513.0</td>\n",
       "      <td>302807.0</td>\n",
       "      <td>306239.0</td>\n",
       "      <td>308296.0</td>\n",
       "      <td>311049.0</td>\n",
       "      <td>315312.0</td>\n",
       "      <td>320457.0</td>\n",
       "      <td>320957.0</td>\n",
       "      <td>322567.0</td>\n",
       "    </tr>\n",
       "    <tr>\n",
       "      <th>4</th>\n",
       "      <td>394514</td>\n",
       "      <td>4</td>\n",
       "      <td>Dallas, TX</td>\n",
       "      <td>msa</td>\n",
       "      <td>TX</td>\n",
       "      <td>258925.0</td>\n",
       "      <td>254695.0</td>\n",
       "      <td>252172.0</td>\n",
       "      <td>251891.0</td>\n",
       "      <td>252191.0</td>\n",
       "      <td>...</td>\n",
       "      <td>381933.0</td>\n",
       "      <td>383066.0</td>\n",
       "      <td>385045.0</td>\n",
       "      <td>389886.0</td>\n",
       "      <td>391964.0</td>\n",
       "      <td>393948.0</td>\n",
       "      <td>392894.0</td>\n",
       "      <td>392275.0</td>\n",
       "      <td>391197.0</td>\n",
       "      <td>390032.0</td>\n",
       "    </tr>\n",
       "  </tbody>\n",
       "</table>\n",
       "<p>5 rows × 79 columns</p>\n",
       "</div>"
      ],
      "text/plain": [
       "   RegionID  SizeRank       RegionName RegionType StateName  2018-08-31  \\\n",
       "0    102001         0    United States    country       NaN    226464.0   \n",
       "1    394913         1     New York, NY        msa        NY    397636.0   \n",
       "2    753899         2  Los Angeles, CA        msa        CA    673718.0   \n",
       "3    394463         3      Chicago, IL        msa        IL    229945.0   \n",
       "4    394514         4       Dallas, TX        msa        TX    258925.0   \n",
       "\n",
       "   2018-09-30  2018-10-31  2018-11-30  2018-12-31  ...  2023-12-31  \\\n",
       "0    225849.0    226543.0    227654.0    228643.0  ...    334503.0   \n",
       "1    395248.0    395611.0    396926.0    396567.0  ...    603185.0   \n",
       "2    669784.0    670135.0    668451.0    663329.0  ...    919376.0   \n",
       "3    228880.0    229653.0    231949.0    231769.0  ...    298526.0   \n",
       "4    254695.0    252172.0    251891.0    252191.0  ...    381933.0   \n",
       "\n",
       "   2024-01-31  2024-02-29  2024-03-31  2024-04-30  2024-05-31  2024-06-30  \\\n",
       "0    335121.0    339431.0    345202.0    349125.0    352081.0    355144.0   \n",
       "1    605647.0    608658.0    612170.0    617987.0    627793.0    641076.0   \n",
       "2    917801.0    923357.0    932840.0    948535.0    958927.0    969256.0   \n",
       "3    300513.0    302807.0    306239.0    308296.0    311049.0    315312.0   \n",
       "4    383066.0    385045.0    389886.0    391964.0    393948.0    392894.0   \n",
       "\n",
       "   2024-07-31  2024-08-31  2024-09-30  \n",
       "0    357383.0    358468.0    358221.0  \n",
       "1    651363.0    655123.0    654488.0  \n",
       "2    970001.0    956885.0    944886.0  \n",
       "3    320457.0    320957.0    322567.0  \n",
       "4    392275.0    391197.0    390032.0  \n",
       "\n",
       "[5 rows x 79 columns]"
      ]
     },
     "execution_count": 6,
     "metadata": {},
     "output_type": "execute_result"
    }
   ],
   "source": [
    "meadianSalePrices.head()"
   ]
  },
  {
   "cell_type": "markdown",
   "id": "f748732f-d291-4d6a-9d57-0862b7be418f",
   "metadata": {},
   "source": [
    "### Data Cleaning Of The Forecast Dataset\n",
    "\n",
    "We have decided to not remove any empty values, because the `City` and the `Metro` value can be infer it by the zip code or other data."
   ]
  },
  {
   "cell_type": "code",
   "execution_count": 7,
   "id": "b217378e-7092-454b-86f9-a2f685948b3a",
   "metadata": {},
   "outputs": [
    {
     "name": "stdout",
     "output_type": "stream",
     "text": [
      "Number of duplicate rows: (0, 13)\n",
      "\n",
      "Number of rows:\n",
      "RegionID      20161\n",
      "SizeRank      20161\n",
      "RegionName    20161\n",
      "RegionType    20161\n",
      "StateName     20161\n",
      "State         20161\n",
      "City          19502\n",
      "Metro         20091\n",
      "CountyName    20161\n",
      "BaseDate      20161\n",
      "2024-11-30    20161\n",
      "2025-01-31    20161\n",
      "2025-10-31    20161\n",
      "dtype: int64\n",
      "\n",
      "Number of empty rows:\n",
      "RegionID        0\n",
      "SizeRank        0\n",
      "RegionName      0\n",
      "RegionType      0\n",
      "StateName       0\n",
      "State           0\n",
      "City          659\n",
      "Metro          70\n",
      "CountyName      0\n",
      "BaseDate        0\n",
      "2024-11-30      0\n",
      "2025-01-31      0\n",
      "2025-10-31      0\n",
      "dtype: int64\n"
     ]
    }
   ],
   "source": [
    "# Data Cleaning Forecast By Zip\n",
    "\n",
    "print(f'Number of duplicate rows: {forecastByZip[forecastByZip.duplicated()].shape}')\n",
    "print()\n",
    "print(f'Number of rows:\\n{forecastByZip.count()}')\n",
    "print()\n",
    "print('Number of empty rows:')\n",
    "print(forecastByZip.isnull().sum())"
   ]
  },
  {
   "cell_type": "markdown",
   "id": "03d5f055-c2e0-4725-9b9f-d0506a153b46",
   "metadata": {},
   "source": [
    "### Forecast data exploration\n",
    "\n",
    "With boxplots and histograms we are able to better understand how the data is distributed. It looks like that the more you wait the higher prices will grow. From the Zillow's forcast models we noticed that the average home value will increase by 1.7 points in the month of October 2025."
   ]
  },
  {
   "cell_type": "code",
   "execution_count": 8,
   "id": "de2ac651-0d47-455e-b6b7-f7f07484f647",
   "metadata": {},
   "outputs": [
    {
     "name": "stdout",
     "output_type": "stream",
     "text": [
      "November 2024 average forcast: 0.0934\n",
      "January 2025 average forcast: 0.3384\n",
      "October 2025 average forcast: 1.7423\n"
     ]
    }
   ],
   "source": [
    "nov_2024_avg = np.around(forecastByZip['2024-11-30'].mean(), decimals=4, out=None)\n",
    "jan_2025_avg = np.around(forecastByZip['2025-01-31'].mean(), decimals=4, out=None)\n",
    "oct_2025_avg = np.around(forecastByZip['2025-10-31'].mean(), decimals=4, out=None)\n",
    "\n",
    "print(f'November 2024 average forcast: {nov_2024_avg}')\n",
    "print(f'January 2025 average forcast: {jan_2025_avg}')\n",
    "print(f'October 2025 average forcast: {oct_2025_avg}')"
   ]
  },
  {
   "cell_type": "code",
   "execution_count": 9,
   "id": "ebbb14a4-5a81-4e8a-a49a-b1e22bff0da4",
   "metadata": {},
   "outputs": [],
   "source": [
    "forecast_min_value = min(forecastByZip['2024-11-30'].min(), forecastByZip['2025-01-31'].min(), forecastByZip['2025-10-31'].min())\n",
    "forecast_max_value = max(forecastByZip['2024-11-30'].max(), forecastByZip['2025-01-31'].max(), forecastByZip['2025-10-31'].max())"
   ]
  },
  {
   "cell_type": "code",
   "execution_count": 10,
   "id": "33286810-b0f8-4f4b-ba09-a5557c87d135",
   "metadata": {},
   "outputs": [
    {
     "data": {
      "image/png": "[encoded data removed]",
      "text/plain": [
       "<Figure size 640x480 with 1 Axes>"
      ]
     },
     "metadata": {},
     "output_type": "display_data"
    }
   ],
   "source": [
    "boxplot_data = [forecastByZip['2024-11-30'], forecastByZip['2025-01-31'], forecastByZip['2025-10-31']]\n",
    "sns.boxplot(\n",
    "    data=boxplot_data,\n",
    "    showmeans=True,\n",
    "    linewidth=1.5\n",
    ")\n",
    "plt.xticks([0, 1, 2], ['Nov 24', 'Jan 25', 'Oct 25'])\n",
    "plt.ylabel('Home Value Index')\n",
    "plt.title('Box Plot Comparison of Home Value Index')\n",
    "plt.xlim(-0.5, 2.5)  # Adjust limits as needed\n",
    "plt.ylim(forecast_min_value, forecast_max_value)\n",
    "plt.show()"
   ]
  },
  {
   "cell_type": "code",
   "execution_count": 11,
   "id": "2dcdf8ca-baca-4d88-9c85-76355527e209",
   "metadata": {},
   "outputs": [
    {
     "data": {
      "image/png": "[encoded data removed]",
      "text/plain": [
       "<Figure size 1200x400 with 3 Axes>"
      ]
     },
     "metadata": {},
     "output_type": "display_data"
    }
   ],
   "source": [
    "fig, axes = plt.subplots(nrows=1, ncols=3, figsize=(12, 4))\n",
    "axes[0].hist(forecastByZip['2024-11-30'], bins=20, color='skyblue', edgecolor='black')\n",
    "axes[0].set_title('November 2024')\n",
    "axes[0].set_xlim(forecast_min_value, forecast_max_value)\n",
    "axes[1].hist(forecastByZip['2025-01-31'], bins=20, color='green', edgecolor='black')\n",
    "axes[1].set_title('January 2025')\n",
    "axes[1].set_xlim(forecast_min_value, forecast_max_value)\n",
    "axes[2].hist(forecastByZip['2025-10-31'], bins=20, color='orange', edgecolor='black')\n",
    "axes[2].set_title('October 2025')\n",
    "axes[2].set_xlim(forecast_min_value, forecast_max_value)\n",
    "plt.tight_layout()\n",
    "plt.show()"
   ]
  },
  {
   "cell_type": "code",
   "execution_count": 12,
   "id": "15c80cf9-f0cf-4617-8488-06b51890c261",
   "metadata": {},
   "outputs": [
    {
     "data": {
      "image/png": "[encoded data removed]",
      "text/plain": [
       "<Figure size 1000x600 with 1 Axes>"
      ]
     },
     "metadata": {},
     "output_type": "display_data"
    }
   ],
   "source": [
    "fig, ax = plt.subplots(figsize=(10, 6))\n",
    "ax.hist(forecastByZip['2024-11-30'], bins=20, color='skyblue', alpha=0.8, label='November 2024')\n",
    "ax.hist(forecastByZip['2025-01-31'], bins=20, color='green', alpha=0.5, label='January 2025')\n",
    "ax.hist(forecastByZip['2025-10-31'], bins=20, color='orange', alpha=0.6, label='October 2025')\n",
    "ax.set_xlabel('Value')\n",
    "ax.set_ylabel('Frequency')\n",
    "ax.set_title('Shift of prices forcasted')\n",
    "ax.legend()\n",
    "plt.show()"
   ]
  },
  {
   "cell_type": "markdown",
   "id": "d0c6977b-dbf7-4cd7-95ce-339f47944667",
   "metadata": {},
   "source": [
    "### Buying Now To Sell In October 2025\n",
    "\n",
    "The boxplots and the histograms are showing that the prices of some houses will eventually increase by October 2025. Based on Zillow's forcasting model.\n",
    "\n",
    "Overall, Zillow is forcasting that Home Values will increase until October 2025, therefore we should be investing now in the geographical regions that will have the highest Home Value forecast increase.\n",
    "\n",
    "By looking at the highest home values increase by October 2025, we can investage to invest in:\n",
    "- Berlin, NH\n",
    "- Stratford, NH\n",
    "- Clewiston, FL\n",
    "- Stockett, MT\n",
    "- Margate City, NJ\n",
    "- Longport, NJ\n",
    "- Felda, FL\n",
    "- Lake Toxaway, NC\n",
    "- Atlantic City, NJ\n",
    "- Pine Hill, NY"
   ]
  },
  {
   "cell_type": "code",
   "execution_count": 13,
   "id": "0b054c98-b2ed-460b-b40f-cb367c2d8f3f",
   "metadata": {},
   "outputs": [
    {
     "name": "stdout",
     "output_type": "stream",
     "text": [
      "       RegionID           City StateName  2024-11-30\n",
      "11846     79944      Kincheloe        MI         3.6\n",
      "15885     62218    Great River        NY         2.5\n",
      "16634     60156       Hartford        CT         2.1\n",
      "16881     84985       La Harpe        IL         2.1\n",
      "15725     86235         Senath        MO         2.0\n",
      "14101     85558  Mount Pulaski        IL         1.9\n",
      "16249     81459      Cassville        WI         1.9\n",
      "17031     85188        Fithian        IL         1.8\n",
      "17193     85224        Ashmore        IL         1.8\n",
      "17552     85597            NaN        IL         1.8\n",
      "\n",
      "       RegionID         City StateName  2025-01-31\n",
      "11846     79944    Kincheloe        MI         6.5\n",
      "15885     62218  Great River        NY         4.8\n",
      "16881     84985     La Harpe        IL         4.1\n",
      "16249     81459    Cassville        WI         3.8\n",
      "17859     75543   Payneville        KY         3.8\n",
      "14116     65577      Luzerne        PA         3.6\n",
      "17613     85167     Bismarck        IL         3.6\n",
      "18856     74967   Clarksdale        MS         3.6\n",
      "16634     60156     Hartford        CT         3.5\n",
      "17031     85188      Fithian        IL         3.4\n",
      "\n",
      "       RegionID           City StateName  2025-10-31\n",
      "9431      59145         Berlin        NH         7.3\n",
      "17267     59159      Stratford        NH         7.3\n",
      "5464      72606      Clewiston        FL         7.2\n",
      "17675     84083       Stockett        MT         7.2\n",
      "11579     61075   Margate City        NJ         7.1\n",
      "17929     61076       Longport        NJ         7.1\n",
      "19663     72919          Felda        FL         7.1\n",
      "15791     70191   Lake Toxaway        NC         6.9\n",
      "2131      61074  Atlantic City        NJ         6.8\n",
      "19631     62588      Pine Hill        NY         6.8\n"
     ]
    }
   ],
   "source": [
    "top10_nov24 = forecastByZip.nlargest(10, '2024-11-30')\n",
    "top10_jan25 = forecastByZip.nlargest(10, '2025-01-31')\n",
    "top10_nov25 = forecastByZip.nlargest(10, '2025-10-31')\n",
    "print(top10_nov24[['RegionID', 'City', 'StateName', '2024-11-30']])\n",
    "print()\n",
    "print(top10_jan25[['RegionID', 'City', 'StateName', '2025-01-31']])\n",
    "print()\n",
    "print(top10_nov25[['RegionID', 'City', 'StateName', '2025-10-31']])"
   ]
  },
  {
   "cell_type": "markdown",
   "id": "5208545a-cf8f-4f45-9026-05ab5caeff79",
   "metadata": {},
   "source": [
    "### Finding Where To Buy\n",
    "\n",
    "Now that we know the region, we can decide to invest in the area where the median home prices are the lowest."
   ]
  },
  {
   "cell_type": "code",
   "execution_count": 15,
   "id": "b4a0766f-48b0-4c68-8c0b-24c38bf5525f",
   "metadata": {},
   "outputs": [
    {
     "name": "stdout",
     "output_type": "stream",
     "text": [
      "Empty DataFrame\n",
      "Columns: [RegionID, SizeRank_x, RegionName_x, RegionType_x, StateName_x, State, City, Metro, CountyName, BaseDate, 2024-11-30, 2025-01-31, 2025-10-31, SizeRank_y, RegionName_y, RegionType_y, StateName_y, 2018-08-31, 2018-09-30, 2018-10-31, 2018-11-30, 2018-12-31, 2019-01-31, 2019-02-28, 2019-03-31, 2019-04-30, 2019-05-31, 2019-06-30, 2019-07-31, 2019-08-31, 2019-09-30, 2019-10-31, 2019-11-30, 2019-12-31, 2020-01-31, 2020-02-29, 2020-03-31, 2020-04-30, 2020-05-31, 2020-06-30, 2020-07-31, 2020-08-31, 2020-09-30, 2020-10-31, 2020-11-30, 2020-12-31, 2021-01-31, 2021-02-28, 2021-03-31, 2021-04-30, 2021-05-31, 2021-06-30, 2021-07-31, 2021-08-31, 2021-09-30, 2021-10-31, 2021-11-30, 2021-12-31, 2022-01-31, 2022-02-28, 2022-03-31, 2022-04-30, 2022-05-31, 2022-06-30, 2022-07-31, 2022-08-31, 2022-09-30, 2022-10-31, 2022-11-30, 2022-12-31, 2023-01-31, 2023-02-28, 2023-03-31, 2023-04-30, 2023-05-31, 2023-06-30, 2023-07-31, 2023-08-31, 2023-09-30, 2023-10-31, 2023-11-30, 2023-12-31, 2024-01-31, 2024-02-29, 2024-03-31, 2024-04-30, 2024-05-31, 2024-06-30, 2024-07-31, 2024-08-31, 2024-09-30]\n",
      "Index: []\n",
      "\n",
      "[0 rows x 91 columns]\n"
     ]
    }
   ],
   "source": [
    "# Merge the DataFrames based on 'RegionID'\n",
    "merged_df = top10_nov25.merge(meadianSalePrices, on='RegionID')\n",
    "print(merged_df)"
   ]
  },
  {
   "cell_type": "markdown",
   "id": "8b872706-9234-4403-b5b2-5c6f7a92bc37",
   "metadata": {},
   "source": [
    "### Conclusions\n",
    "\n",
    "We need to invest in the city, now, if possible."
   ]
  }
 ],
 "metadata": {
  "kernelspec": {
   "display_name": "Python 3 (ipykernel)",
   "language": "python",
   "name": "python3"
  },
  "language_info": {
   "codemirror_mode": {
    "name": "ipython",
    "version": 3
   },
   "file_extension": ".py",
   "mimetype": "text/x-python",
   "name": "python",
   "nbconvert_exporter": "python",
   "pygments_lexer": "ipython3",
   "version": "3.12.6"
  }
 },
 "nbformat": 4,
 "nbformat_minor": 5
}
